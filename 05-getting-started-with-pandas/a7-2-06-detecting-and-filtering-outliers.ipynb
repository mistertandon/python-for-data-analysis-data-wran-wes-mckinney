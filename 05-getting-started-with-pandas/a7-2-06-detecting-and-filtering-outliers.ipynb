{
 "cells": [
  {
   "cell_type": "code",
   "execution_count": 78,
   "metadata": {},
   "outputs": [],
   "source": [
    "from IPython.core.interactiveshell import InteractiveShell\n",
    "InteractiveShell.ast_node_interactivity = 'all'"
   ]
  },
  {
   "cell_type": "code",
   "execution_count": 79,
   "metadata": {},
   "outputs": [],
   "source": [
    "import pandas as pd\n",
    "import numpy as np"
   ]
  },
  {
   "cell_type": "code",
   "execution_count": 80,
   "metadata": {},
   "outputs": [
    {
     "data": {
      "text/html": [
       "<div>\n",
       "<style scoped>\n",
       "    .dataframe tbody tr th:only-of-type {\n",
       "        vertical-align: middle;\n",
       "    }\n",
       "\n",
       "    .dataframe tbody tr th {\n",
       "        vertical-align: top;\n",
       "    }\n",
       "\n",
       "    .dataframe thead th {\n",
       "        text-align: right;\n",
       "    }\n",
       "</style>\n",
       "<table border=\"1\" class=\"dataframe\">\n",
       "  <thead>\n",
       "    <tr style=\"text-align: right;\">\n",
       "      <th></th>\n",
       "      <th>0</th>\n",
       "      <th>1</th>\n",
       "      <th>2</th>\n",
       "      <th>3</th>\n",
       "    </tr>\n",
       "  </thead>\n",
       "  <tbody>\n",
       "    <tr>\n",
       "      <th>0</th>\n",
       "      <td>1.008439</td>\n",
       "      <td>0.428086</td>\n",
       "      <td>2.114516</td>\n",
       "      <td>1.366097</td>\n",
       "    </tr>\n",
       "    <tr>\n",
       "      <th>1</th>\n",
       "      <td>0.844211</td>\n",
       "      <td>-0.048855</td>\n",
       "      <td>0.025997</td>\n",
       "      <td>-1.156500</td>\n",
       "    </tr>\n",
       "    <tr>\n",
       "      <th>2</th>\n",
       "      <td>-0.029850</td>\n",
       "      <td>-0.184231</td>\n",
       "      <td>-0.923595</td>\n",
       "      <td>-0.661062</td>\n",
       "    </tr>\n",
       "    <tr>\n",
       "      <th>3</th>\n",
       "      <td>0.367963</td>\n",
       "      <td>-0.665306</td>\n",
       "      <td>0.849544</td>\n",
       "      <td>-1.206402</td>\n",
       "    </tr>\n",
       "    <tr>\n",
       "      <th>4</th>\n",
       "      <td>0.090193</td>\n",
       "      <td>-0.538901</td>\n",
       "      <td>-1.275824</td>\n",
       "      <td>0.849307</td>\n",
       "    </tr>\n",
       "  </tbody>\n",
       "</table>\n",
       "</div>"
      ],
      "text/plain": [
       "          0         1         2         3\n",
       "0  1.008439  0.428086  2.114516  1.366097\n",
       "1  0.844211 -0.048855  0.025997 -1.156500\n",
       "2 -0.029850 -0.184231 -0.923595 -0.661062\n",
       "3  0.367963 -0.665306  0.849544 -1.206402\n",
       "4  0.090193 -0.538901 -1.275824  0.849307"
      ]
     },
     "execution_count": 80,
     "metadata": {},
     "output_type": "execute_result"
    }
   ],
   "source": [
    "df = pd.DataFrame(np.random.randn(1000, 4))\n",
    "df.head()"
   ]
  },
  {
   "cell_type": "code",
   "execution_count": 81,
   "metadata": {},
   "outputs": [],
   "source": [
    "# Suppose you want to find out values in one of the columns exceeding 3 in absolute value\n",
    "# Let'a assume target column is df[2]"
   ]
  },
  {
   "cell_type": "code",
   "execution_count": 82,
   "metadata": {},
   "outputs": [],
   "source": [
    "df_col_2 = df[2]"
   ]
  },
  {
   "cell_type": "code",
   "execution_count": 83,
   "metadata": {},
   "outputs": [
    {
     "data": {
      "text/html": [
       "<div>\n",
       "<style scoped>\n",
       "    .dataframe tbody tr th:only-of-type {\n",
       "        vertical-align: middle;\n",
       "    }\n",
       "\n",
       "    .dataframe tbody tr th {\n",
       "        vertical-align: top;\n",
       "    }\n",
       "\n",
       "    .dataframe thead th {\n",
       "        text-align: right;\n",
       "    }\n",
       "</style>\n",
       "<table border=\"1\" class=\"dataframe\">\n",
       "  <thead>\n",
       "    <tr style=\"text-align: right;\">\n",
       "      <th></th>\n",
       "      <th>0</th>\n",
       "      <th>1</th>\n",
       "      <th>2</th>\n",
       "      <th>3</th>\n",
       "    </tr>\n",
       "  </thead>\n",
       "  <tbody>\n",
       "    <tr>\n",
       "      <th>848</th>\n",
       "      <td>-0.198928</td>\n",
       "      <td>-1.317757</td>\n",
       "      <td>-3.530756</td>\n",
       "      <td>-0.844433</td>\n",
       "    </tr>\n",
       "    <tr>\n",
       "      <th>873</th>\n",
       "      <td>-0.820242</td>\n",
       "      <td>1.283429</td>\n",
       "      <td>3.349670</td>\n",
       "      <td>1.064726</td>\n",
       "    </tr>\n",
       "  </tbody>\n",
       "</table>\n",
       "</div>"
      ],
      "text/plain": [
       "            0         1         2         3\n",
       "848 -0.198928 -1.317757 -3.530756 -0.844433\n",
       "873 -0.820242  1.283429  3.349670  1.064726"
      ]
     },
     "execution_count": 83,
     "metadata": {},
     "output_type": "execute_result"
    }
   ],
   "source": [
    "df[np.abs(df_col_2) > 3]"
   ]
  },
  {
   "cell_type": "code",
   "execution_count": 84,
   "metadata": {},
   "outputs": [
    {
     "data": {
      "text/html": [
       "<div>\n",
       "<style scoped>\n",
       "    .dataframe tbody tr th:only-of-type {\n",
       "        vertical-align: middle;\n",
       "    }\n",
       "\n",
       "    .dataframe tbody tr th {\n",
       "        vertical-align: top;\n",
       "    }\n",
       "\n",
       "    .dataframe thead th {\n",
       "        text-align: right;\n",
       "    }\n",
       "</style>\n",
       "<table border=\"1\" class=\"dataframe\">\n",
       "  <thead>\n",
       "    <tr style=\"text-align: right;\">\n",
       "      <th></th>\n",
       "      <th>0</th>\n",
       "      <th>1</th>\n",
       "      <th>2</th>\n",
       "      <th>3</th>\n",
       "    </tr>\n",
       "  </thead>\n",
       "  <tbody>\n",
       "    <tr>\n",
       "      <th>30</th>\n",
       "      <td>0.064771</td>\n",
       "      <td>-3.619666</td>\n",
       "      <td>-1.228881</td>\n",
       "      <td>0.562943</td>\n",
       "    </tr>\n",
       "    <tr>\n",
       "      <th>39</th>\n",
       "      <td>-4.143080</td>\n",
       "      <td>0.074063</td>\n",
       "      <td>0.414059</td>\n",
       "      <td>0.212367</td>\n",
       "    </tr>\n",
       "    <tr>\n",
       "      <th>200</th>\n",
       "      <td>-3.236937</td>\n",
       "      <td>1.241374</td>\n",
       "      <td>-0.045699</td>\n",
       "      <td>-2.285800</td>\n",
       "    </tr>\n",
       "    <tr>\n",
       "      <th>362</th>\n",
       "      <td>0.534972</td>\n",
       "      <td>1.015809</td>\n",
       "      <td>1.346204</td>\n",
       "      <td>-3.015351</td>\n",
       "    </tr>\n",
       "    <tr>\n",
       "      <th>433</th>\n",
       "      <td>1.243910</td>\n",
       "      <td>-3.637472</td>\n",
       "      <td>-1.111846</td>\n",
       "      <td>0.926643</td>\n",
       "    </tr>\n",
       "    <tr>\n",
       "      <th>633</th>\n",
       "      <td>3.370609</td>\n",
       "      <td>-1.498673</td>\n",
       "      <td>0.260311</td>\n",
       "      <td>-0.548403</td>\n",
       "    </tr>\n",
       "    <tr>\n",
       "      <th>686</th>\n",
       "      <td>1.411912</td>\n",
       "      <td>0.972762</td>\n",
       "      <td>2.055928</td>\n",
       "      <td>-3.335046</td>\n",
       "    </tr>\n",
       "    <tr>\n",
       "      <th>844</th>\n",
       "      <td>-3.092123</td>\n",
       "      <td>-0.451754</td>\n",
       "      <td>-0.184641</td>\n",
       "      <td>0.883028</td>\n",
       "    </tr>\n",
       "    <tr>\n",
       "      <th>848</th>\n",
       "      <td>-0.198928</td>\n",
       "      <td>-1.317757</td>\n",
       "      <td>-3.530756</td>\n",
       "      <td>-0.844433</td>\n",
       "    </tr>\n",
       "    <tr>\n",
       "      <th>873</th>\n",
       "      <td>-0.820242</td>\n",
       "      <td>1.283429</td>\n",
       "      <td>3.349670</td>\n",
       "      <td>1.064726</td>\n",
       "    </tr>\n",
       "  </tbody>\n",
       "</table>\n",
       "</div>"
      ],
      "text/plain": [
       "            0         1         2         3\n",
       "30   0.064771 -3.619666 -1.228881  0.562943\n",
       "39  -4.143080  0.074063  0.414059  0.212367\n",
       "200 -3.236937  1.241374 -0.045699 -2.285800\n",
       "362  0.534972  1.015809  1.346204 -3.015351\n",
       "433  1.243910 -3.637472 -1.111846  0.926643\n",
       "633  3.370609 -1.498673  0.260311 -0.548403\n",
       "686  1.411912  0.972762  2.055928 -3.335046\n",
       "844 -3.092123 -0.451754 -0.184641  0.883028\n",
       "848 -0.198928 -1.317757 -3.530756 -0.844433\n",
       "873 -0.820242  1.283429  3.349670  1.064726"
      ]
     },
     "execution_count": 84,
     "metadata": {},
     "output_type": "execute_result"
    }
   ],
   "source": [
    "## PTR: To select all rows having a value exceeding 3 (or) -3, we may use any method on a Boolean DataFrame\n",
    "df[(np.abs(df) > 3).any(axis = 1)]"
   ]
  }
 ],
 "metadata": {
  "kernelspec": {
   "display_name": "Python 3",
   "language": "python",
   "name": "python3"
  },
  "language_info": {
   "codemirror_mode": {
    "name": "ipython",
    "version": 3
   },
   "file_extension": ".py",
   "mimetype": "text/x-python",
   "name": "python",
   "nbconvert_exporter": "python",
   "pygments_lexer": "ipython3",
   "version": "3.7.0"
  }
 },
 "nbformat": 4,
 "nbformat_minor": 2
}
