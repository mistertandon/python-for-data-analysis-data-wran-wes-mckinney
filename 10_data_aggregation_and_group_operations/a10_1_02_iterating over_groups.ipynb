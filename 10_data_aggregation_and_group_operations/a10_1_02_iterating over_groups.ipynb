{
 "cells": [
  {
   "cell_type": "code",
   "execution_count": 12,
   "metadata": {},
   "outputs": [],
   "source": [
    "from IPython.core.interactiveshell import InteractiveShell\n",
    "InteractiveShell.ast_node_interactivity = 'all'"
   ]
  },
  {
   "cell_type": "code",
   "execution_count": 13,
   "metadata": {},
   "outputs": [],
   "source": [
    "import pandas as pd\n",
    "import numpy as np"
   ]
  },
  {
   "cell_type": "code",
   "execution_count": 14,
   "metadata": {},
   "outputs": [
    {
     "data": {
      "text/html": [
       "<div>\n",
       "<style scoped>\n",
       "    .dataframe tbody tr th:only-of-type {\n",
       "        vertical-align: middle;\n",
       "    }\n",
       "\n",
       "    .dataframe tbody tr th {\n",
       "        vertical-align: top;\n",
       "    }\n",
       "\n",
       "    .dataframe thead th {\n",
       "        text-align: right;\n",
       "    }\n",
       "</style>\n",
       "<table border=\"1\" class=\"dataframe\">\n",
       "  <thead>\n",
       "    <tr style=\"text-align: right;\">\n",
       "      <th></th>\n",
       "      <th>key1</th>\n",
       "      <th>key2</th>\n",
       "      <th>data1</th>\n",
       "      <th>data2</th>\n",
       "    </tr>\n",
       "  </thead>\n",
       "  <tbody>\n",
       "    <tr>\n",
       "      <th>0</th>\n",
       "      <td>a</td>\n",
       "      <td>one</td>\n",
       "      <td>0.085054</td>\n",
       "      <td>-2.126261</td>\n",
       "    </tr>\n",
       "    <tr>\n",
       "      <th>1</th>\n",
       "      <td>a</td>\n",
       "      <td>two</td>\n",
       "      <td>0.946015</td>\n",
       "      <td>0.367846</td>\n",
       "    </tr>\n",
       "    <tr>\n",
       "      <th>2</th>\n",
       "      <td>b</td>\n",
       "      <td>one</td>\n",
       "      <td>-1.134383</td>\n",
       "      <td>-1.910906</td>\n",
       "    </tr>\n",
       "    <tr>\n",
       "      <th>3</th>\n",
       "      <td>b</td>\n",
       "      <td>two</td>\n",
       "      <td>0.134955</td>\n",
       "      <td>1.216139</td>\n",
       "    </tr>\n",
       "    <tr>\n",
       "      <th>4</th>\n",
       "      <td>a</td>\n",
       "      <td>one</td>\n",
       "      <td>-0.193366</td>\n",
       "      <td>-0.684782</td>\n",
       "    </tr>\n",
       "  </tbody>\n",
       "</table>\n",
       "</div>"
      ],
      "text/plain": [
       "  key1 key2     data1     data2\n",
       "0    a  one  0.085054 -2.126261\n",
       "1    a  two  0.946015  0.367846\n",
       "2    b  one -1.134383 -1.910906\n",
       "3    b  two  0.134955  1.216139\n",
       "4    a  one -0.193366 -0.684782"
      ]
     },
     "execution_count": 14,
     "metadata": {},
     "output_type": "execute_result"
    }
   ],
   "source": [
    "df = pd.DataFrame(\n",
    "    {\n",
    "        'key1': ['a', 'a', 'b', 'b', 'a'],\n",
    "        'key2': ['one', 'two', 'one', 'two', 'one'],\n",
    "        'data1': np.random.randn(5),\n",
    "        'data2': np.random.randn(5)\n",
    "    }\n",
    ")\n",
    "df"
   ]
  },
  {
   "cell_type": "code",
   "execution_count": 15,
   "metadata": {},
   "outputs": [],
   "source": [
    "gropued_i = df.groupby('key1')"
   ]
  },
  {
   "cell_type": "code",
   "execution_count": 16,
   "metadata": {},
   "outputs": [
    {
     "name": "stdout",
     "output_type": "stream",
     "text": [
      "a\n",
      "  key1 key2     data1     data2\n",
      "0    a  one  0.085054 -2.126261\n",
      "1    a  two  0.946015  0.367846\n",
      "4    a  one -0.193366 -0.684782\n",
      "b\n",
      "  key1 key2     data1     data2\n",
      "2    b  one -1.134383 -1.910906\n",
      "3    b  two  0.134955  1.216139\n"
     ]
    }
   ],
   "source": [
    "for grp_name, grp_data in gropued_i:\n",
    "    print(grp_name)\n",
    "    print(grp_data)"
   ]
  },
  {
   "cell_type": "code",
   "execution_count": 17,
   "metadata": {},
   "outputs": [
    {
     "name": "stdout",
     "output_type": "stream",
     "text": [
      "a\n",
      "one\n",
      "  key1 key2     data1     data2\n",
      "0    a  one  0.085054 -2.126261\n",
      "4    a  one -0.193366 -0.684782\n",
      "a\n",
      "two\n",
      "  key1 key2     data1     data2\n",
      "1    a  two  0.946015  0.367846\n",
      "b\n",
      "one\n",
      "  key1 key2     data1     data2\n",
      "2    b  one -1.134383 -1.910906\n",
      "b\n",
      "two\n",
      "  key1 key2     data1     data2\n",
      "3    b  two  0.134955  1.216139\n"
     ]
    }
   ],
   "source": [
    "# When there are multiple keys, first element in the tuple will be a\n",
    "# tuple of key values\n",
    "gropued_ii = df.groupby(by = ['key1', 'key2'])\n",
    "for (grp_name_level_i, grp_name_level_ii), grp_data in gropued_ii:\n",
    "    print(grp_name_level_i)\n",
    "    print(grp_name_level_ii)\n",
    "    print(grp_data)"
   ]
  }
 ],
 "metadata": {
  "kernelspec": {
   "display_name": "Python 3",
   "language": "python",
   "name": "python3"
  },
  "language_info": {
   "codemirror_mode": {
    "name": "ipython",
    "version": 3
   },
   "file_extension": ".py",
   "mimetype": "text/x-python",
   "name": "python",
   "nbconvert_exporter": "python",
   "pygments_lexer": "ipython3",
   "version": "3.7.0"
  }
 },
 "nbformat": 4,
 "nbformat_minor": 2
}
