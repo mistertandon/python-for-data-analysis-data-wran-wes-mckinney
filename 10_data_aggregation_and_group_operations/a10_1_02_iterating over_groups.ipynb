{
 "cells": [
  {
   "cell_type": "code",
   "execution_count": 1,
   "metadata": {},
   "outputs": [],
   "source": [
    "from IPython.core.interactiveshell import InteractiveShell\n",
    "InteractiveShell.ast_node_interactivity = 'all'"
   ]
  },
  {
   "cell_type": "code",
   "execution_count": 2,
   "metadata": {},
   "outputs": [],
   "source": [
    "import pandas as pd\n",
    "import numpy as np"
   ]
  },
  {
   "cell_type": "code",
   "execution_count": 3,
   "metadata": {},
   "outputs": [
    {
     "data": {
      "text/html": [
       "<div>\n",
       "<style scoped>\n",
       "    .dataframe tbody tr th:only-of-type {\n",
       "        vertical-align: middle;\n",
       "    }\n",
       "\n",
       "    .dataframe tbody tr th {\n",
       "        vertical-align: top;\n",
       "    }\n",
       "\n",
       "    .dataframe thead th {\n",
       "        text-align: right;\n",
       "    }\n",
       "</style>\n",
       "<table border=\"1\" class=\"dataframe\">\n",
       "  <thead>\n",
       "    <tr style=\"text-align: right;\">\n",
       "      <th></th>\n",
       "      <th>key1</th>\n",
       "      <th>key2</th>\n",
       "      <th>data1</th>\n",
       "      <th>data2</th>\n",
       "    </tr>\n",
       "  </thead>\n",
       "  <tbody>\n",
       "    <tr>\n",
       "      <th>0</th>\n",
       "      <td>a</td>\n",
       "      <td>one</td>\n",
       "      <td>0.041765</td>\n",
       "      <td>1.263783</td>\n",
       "    </tr>\n",
       "    <tr>\n",
       "      <th>1</th>\n",
       "      <td>a</td>\n",
       "      <td>two</td>\n",
       "      <td>-1.093742</td>\n",
       "      <td>0.071787</td>\n",
       "    </tr>\n",
       "    <tr>\n",
       "      <th>2</th>\n",
       "      <td>b</td>\n",
       "      <td>one</td>\n",
       "      <td>-1.453398</td>\n",
       "      <td>0.058801</td>\n",
       "    </tr>\n",
       "    <tr>\n",
       "      <th>3</th>\n",
       "      <td>b</td>\n",
       "      <td>two</td>\n",
       "      <td>0.613571</td>\n",
       "      <td>-0.055852</td>\n",
       "    </tr>\n",
       "    <tr>\n",
       "      <th>4</th>\n",
       "      <td>a</td>\n",
       "      <td>one</td>\n",
       "      <td>0.052273</td>\n",
       "      <td>1.261518</td>\n",
       "    </tr>\n",
       "  </tbody>\n",
       "</table>\n",
       "</div>"
      ],
      "text/plain": [
       "  key1 key2     data1     data2\n",
       "0    a  one  0.041765  1.263783\n",
       "1    a  two -1.093742  0.071787\n",
       "2    b  one -1.453398  0.058801\n",
       "3    b  two  0.613571 -0.055852\n",
       "4    a  one  0.052273  1.261518"
      ]
     },
     "execution_count": 3,
     "metadata": {},
     "output_type": "execute_result"
    }
   ],
   "source": [
    "df = pd.DataFrame(\n",
    "    {\n",
    "        'key1': ['a', 'a', 'b', 'b', 'a'],\n",
    "        'key2': ['one', 'two', 'one', 'two', 'one'],\n",
    "        'data1': np.random.randn(5),\n",
    "        'data2': np.random.randn(5)\n",
    "    }\n",
    ")\n",
    "df"
   ]
  },
  {
   "cell_type": "code",
   "execution_count": 4,
   "metadata": {},
   "outputs": [],
   "source": [
    "gropued_i = df.groupby('key1')"
   ]
  },
  {
   "cell_type": "code",
   "execution_count": 5,
   "metadata": {},
   "outputs": [
    {
     "name": "stdout",
     "output_type": "stream",
     "text": [
      "a\n",
      "  key1 key2     data1     data2\n",
      "0    a  one  0.041765  1.263783\n",
      "1    a  two -1.093742  0.071787\n",
      "4    a  one  0.052273  1.261518\n",
      "========================================\n",
      "b\n",
      "  key1 key2     data1     data2\n",
      "2    b  one -1.453398  0.058801\n",
      "3    b  two  0.613571 -0.055852\n",
      "========================================\n"
     ]
    }
   ],
   "source": [
    "for grp_name, grp_data in gropued_i:\n",
    "    print(grp_name)\n",
    "    print(grp_data)\n",
    "    print('=='*20)"
   ]
  },
  {
   "cell_type": "code",
   "execution_count": 6,
   "metadata": {},
   "outputs": [
    {
     "name": "stdout",
     "output_type": "stream",
     "text": [
      "a\n",
      "one\n",
      "  key1 key2     data1     data2\n",
      "0    a  one  0.041765  1.263783\n",
      "4    a  one  0.052273  1.261518\n",
      "========================================\n",
      "a\n",
      "two\n",
      "  key1 key2     data1     data2\n",
      "1    a  two -1.093742  0.071787\n",
      "========================================\n",
      "b\n",
      "one\n",
      "  key1 key2     data1     data2\n",
      "2    b  one -1.453398  0.058801\n",
      "========================================\n",
      "b\n",
      "two\n",
      "  key1 key2     data1     data2\n",
      "3    b  two  0.613571 -0.055852\n",
      "========================================\n"
     ]
    }
   ],
   "source": [
    "# When there are multiple keys, first element in the tuple will be a\n",
    "# tuple of key values\n",
    "gropued_ii = df.groupby(by = ['key1', 'key2'])\n",
    "for (grp_name_level_i, grp_name_level_ii), grp_data in gropued_ii:\n",
    "    print(grp_name_level_i)\n",
    "    print(grp_name_level_ii)\n",
    "    print(grp_data)\n",
    "    print('=='*20)"
   ]
  },
  {
   "cell_type": "code",
   "execution_count": 7,
   "metadata": {},
   "outputs": [
    {
     "data": {
      "text/plain": [
       "<pandas.core.groupby.groupby.DataFrameGroupBy object at 0x00000164E043C390>"
      ]
     },
     "execution_count": 7,
     "metadata": {},
     "output_type": "execute_result"
    }
   ],
   "source": [
    "# A recipe for computing dict of data pieces\n",
    "grp_ii = df.groupby('key1')\n",
    "grp_ii"
   ]
  },
  {
   "cell_type": "code",
   "execution_count": 8,
   "metadata": {},
   "outputs": [
    {
     "data": {
      "text/plain": [
       "[('a',\n",
       "    key1 key2     data1     data2\n",
       "  0    a  one  0.041765  1.263783\n",
       "  1    a  two -1.093742  0.071787\n",
       "  4    a  one  0.052273  1.261518),\n",
       " ('b',\n",
       "    key1 key2     data1     data2\n",
       "  2    b  one -1.453398  0.058801\n",
       "  3    b  two  0.613571 -0.055852)]"
      ]
     },
     "execution_count": 8,
     "metadata": {},
     "output_type": "execute_result"
    }
   ],
   "source": [
    "grp_ii_list = list(grp_ii)\n",
    "grp_ii_list"
   ]
  },
  {
   "cell_type": "code",
   "execution_count": 9,
   "metadata": {},
   "outputs": [
    {
     "data": {
      "text/plain": [
       "{'a':   key1 key2     data1     data2\n",
       " 0    a  one  0.041765  1.263783\n",
       " 1    a  two -1.093742  0.071787\n",
       " 4    a  one  0.052273  1.261518,\n",
       " 'b':   key1 key2     data1     data2\n",
       " 2    b  one -1.453398  0.058801\n",
       " 3    b  two  0.613571 -0.055852}"
      ]
     },
     "execution_count": 9,
     "metadata": {},
     "output_type": "execute_result"
    }
   ],
   "source": [
    "grp_ii_list_dict = dict(grp_ii_list)\n",
    "grp_ii_list_dict"
   ]
  },
  {
   "cell_type": "code",
   "execution_count": 10,
   "metadata": {},
   "outputs": [
    {
     "data": {
      "text/plain": [
       "pandas.core.frame.DataFrame"
      ]
     },
     "execution_count": 10,
     "metadata": {},
     "output_type": "execute_result"
    }
   ],
   "source": [
    "type(grp_ii_list_dict['a'])"
   ]
  },
  {
   "cell_type": "code",
   "execution_count": 11,
   "metadata": {},
   "outputs": [
    {
     "data": {
      "text/html": [
       "<div>\n",
       "<style scoped>\n",
       "    .dataframe tbody tr th:only-of-type {\n",
       "        vertical-align: middle;\n",
       "    }\n",
       "\n",
       "    .dataframe tbody tr th {\n",
       "        vertical-align: top;\n",
       "    }\n",
       "\n",
       "    .dataframe thead th {\n",
       "        text-align: right;\n",
       "    }\n",
       "</style>\n",
       "<table border=\"1\" class=\"dataframe\">\n",
       "  <thead>\n",
       "    <tr style=\"text-align: right;\">\n",
       "      <th></th>\n",
       "      <th>key1</th>\n",
       "      <th>key2</th>\n",
       "      <th>data1</th>\n",
       "      <th>data2</th>\n",
       "    </tr>\n",
       "  </thead>\n",
       "  <tbody>\n",
       "    <tr>\n",
       "      <th>0</th>\n",
       "      <td>a</td>\n",
       "      <td>one</td>\n",
       "      <td>0.041765</td>\n",
       "      <td>1.263783</td>\n",
       "    </tr>\n",
       "    <tr>\n",
       "      <th>1</th>\n",
       "      <td>a</td>\n",
       "      <td>two</td>\n",
       "      <td>-1.093742</td>\n",
       "      <td>0.071787</td>\n",
       "    </tr>\n",
       "    <tr>\n",
       "      <th>4</th>\n",
       "      <td>a</td>\n",
       "      <td>one</td>\n",
       "      <td>0.052273</td>\n",
       "      <td>1.261518</td>\n",
       "    </tr>\n",
       "  </tbody>\n",
       "</table>\n",
       "</div>"
      ],
      "text/plain": [
       "  key1 key2     data1     data2\n",
       "0    a  one  0.041765  1.263783\n",
       "1    a  two -1.093742  0.071787\n",
       "4    a  one  0.052273  1.261518"
      ]
     },
     "execution_count": 11,
     "metadata": {},
     "output_type": "execute_result"
    }
   ],
   "source": [
    "grp_ii_list_dict['a']"
   ]
  },
  {
   "cell_type": "markdown",
   "metadata": {},
   "source": [
    "> By default GroupBy groups on axis=0"
   ]
  },
  {
   "cell_type": "code",
   "execution_count": 12,
   "metadata": {},
   "outputs": [
    {
     "data": {
      "text/plain": [
       "key1      object\n",
       "key2      object\n",
       "data1    float64\n",
       "data2    float64\n",
       "dtype: object"
      ]
     },
     "execution_count": 12,
     "metadata": {},
     "output_type": "execute_result"
    }
   ],
   "source": [
    "# We could group the DataFrame columns by dtypes\n",
    "df.dtypes"
   ]
  },
  {
   "cell_type": "code",
   "execution_count": 13,
   "metadata": {},
   "outputs": [],
   "source": [
    "grp_iii = df.groupby(by = df.dtypes, axis = 1)"
   ]
  },
  {
   "cell_type": "code",
   "execution_count": 14,
   "metadata": {},
   "outputs": [
    {
     "name": "stdout",
     "output_type": "stream",
     "text": [
      "float64\n",
      "      data1     data2\n",
      "0  0.041765  1.263783\n",
      "1 -1.093742  0.071787\n",
      "2 -1.453398  0.058801\n",
      "3  0.613571 -0.055852\n",
      "4  0.052273  1.261518\n",
      "========================================\n",
      "object\n",
      "  key1 key2\n",
      "0    a  one\n",
      "1    a  two\n",
      "2    b  one\n",
      "3    b  two\n",
      "4    a  one\n",
      "========================================\n"
     ]
    }
   ],
   "source": [
    "for grp_name, grp_data in grp_iii:\n",
    "    print(grp_name)\n",
    "    print(grp_data)\n",
    "    print('=='*20)"
   ]
  }
 ],
 "metadata": {
  "kernelspec": {
   "display_name": "Python 3",
   "language": "python",
   "name": "python3"
  },
  "language_info": {
   "codemirror_mode": {
    "name": "ipython",
    "version": 3
   },
   "file_extension": ".py",
   "mimetype": "text/x-python",
   "name": "python",
   "nbconvert_exporter": "python",
   "pygments_lexer": "ipython3",
   "version": "3.7.0"
  }
 },
 "nbformat": 4,
 "nbformat_minor": 2
}
