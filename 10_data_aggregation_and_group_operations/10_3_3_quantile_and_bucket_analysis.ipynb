{
 "cells": [
  {
   "cell_type": "code",
   "execution_count": 30,
   "metadata": {},
   "outputs": [],
   "source": [
    "from IPython.core.interactiveshell import InteractiveShell\n",
    "InteractiveShell.ast_node_interactivity = 'all'"
   ]
  },
  {
   "cell_type": "code",
   "execution_count": 31,
   "metadata": {},
   "outputs": [],
   "source": [
    "import pandas as pd\n",
    "import numpy as np"
   ]
  },
  {
   "cell_type": "code",
   "execution_count": 32,
   "metadata": {},
   "outputs": [
    {
     "data": {
      "text/html": [
       "<div>\n",
       "<style scoped>\n",
       "    .dataframe tbody tr th:only-of-type {\n",
       "        vertical-align: middle;\n",
       "    }\n",
       "\n",
       "    .dataframe tbody tr th {\n",
       "        vertical-align: top;\n",
       "    }\n",
       "\n",
       "    .dataframe thead th {\n",
       "        text-align: right;\n",
       "    }\n",
       "</style>\n",
       "<table border=\"1\" class=\"dataframe\">\n",
       "  <thead>\n",
       "    <tr style=\"text-align: right;\">\n",
       "      <th></th>\n",
       "      <th>data1</th>\n",
       "      <th>data2</th>\n",
       "    </tr>\n",
       "  </thead>\n",
       "  <tbody>\n",
       "    <tr>\n",
       "      <th>0</th>\n",
       "      <td>0.277835</td>\n",
       "      <td>2.038488</td>\n",
       "    </tr>\n",
       "    <tr>\n",
       "      <th>1</th>\n",
       "      <td>1.034453</td>\n",
       "      <td>1.907833</td>\n",
       "    </tr>\n",
       "    <tr>\n",
       "      <th>2</th>\n",
       "      <td>-2.231914</td>\n",
       "      <td>-0.385506</td>\n",
       "    </tr>\n",
       "    <tr>\n",
       "      <th>3</th>\n",
       "      <td>0.097092</td>\n",
       "      <td>-1.050907</td>\n",
       "    </tr>\n",
       "    <tr>\n",
       "      <th>4</th>\n",
       "      <td>-0.527037</td>\n",
       "      <td>-0.802588</td>\n",
       "    </tr>\n",
       "  </tbody>\n",
       "</table>\n",
       "</div>"
      ],
      "text/plain": [
       "      data1     data2\n",
       "0  0.277835  2.038488\n",
       "1  1.034453  1.907833\n",
       "2 -2.231914 -0.385506\n",
       "3  0.097092 -1.050907\n",
       "4 -0.527037 -0.802588"
      ]
     },
     "execution_count": 32,
     "metadata": {},
     "output_type": "execute_result"
    }
   ],
   "source": [
    "df = pd.DataFrame(\n",
    "    {\n",
    "        'data1': np.random.randn(1000),\n",
    "        'data2': np.random.randn(1000)\n",
    "    }\n",
    ")\n",
    "df.head()"
   ]
  },
  {
   "cell_type": "code",
   "execution_count": 33,
   "metadata": {},
   "outputs": [
    {
     "data": {
      "text/plain": [
       "pandas.core.series.Series"
      ]
     },
     "execution_count": 33,
     "metadata": {},
     "output_type": "execute_result"
    }
   ],
   "source": [
    "quartiles = pd.cut(df.data1, 4)\n",
    "type(quartiles)"
   ]
  },
  {
   "cell_type": "code",
   "execution_count": 34,
   "metadata": {},
   "outputs": [
    {
     "data": {
      "text/plain": [
       "0     (0.0449, 1.357]\n",
       "1     (0.0449, 1.357]\n",
       "2    (-2.585, -1.268]\n",
       "3     (0.0449, 1.357]\n",
       "4    (-1.268, 0.0449]\n",
       "Name: data1, dtype: category\n",
       "Categories (4, interval[float64]): [(-2.585, -1.268] < (-1.268, 0.0449] < (0.0449, 1.357] < (1.357, 2.67]]"
      ]
     },
     "execution_count": 34,
     "metadata": {},
     "output_type": "execute_result"
    }
   ],
   "source": [
    "quartiles.head()"
   ]
  },
  {
   "cell_type": "code",
   "execution_count": 35,
   "metadata": {},
   "outputs": [
    {
     "data": {
      "text/plain": [
       "[(0.0449, 1.357], (0.0449, 1.357], (-2.585, -1.268], (0.0449, 1.357], (-1.268, 0.0449], ..., (-2.585, -1.268], (-2.585, -1.268], (-1.268, 0.0449], (-1.268, 0.0449], (-1.268, 0.0449]]\n",
       "Length: 1000\n",
       "Categories (4, interval[float64]): [(-2.585, -1.268] < (-1.268, 0.0449] < (0.0449, 1.357] < (1.357, 2.67]]"
      ]
     },
     "execution_count": 35,
     "metadata": {},
     "output_type": "execute_result"
    }
   ],
   "source": [
    "quartiles.values"
   ]
  },
  {
   "cell_type": "code",
   "execution_count": 36,
   "metadata": {},
   "outputs": [],
   "source": [
    "def get_stats(group_data):\n",
    "    \n",
    "    return {\n",
    "        'min':group_data.min(),\n",
    "        'max':group_data.max(),\n",
    "        'median':group_data.median(),\n",
    "        'count':group_data.count(\n",
    "        )\n",
    "    }"
   ]
  },
  {
   "cell_type": "code",
   "execution_count": 37,
   "metadata": {},
   "outputs": [
    {
     "data": {
      "text/plain": [
       "data1\n",
       "(-2.585, -1.268]    {'min': [-2.5800232689023, -2.4253925411272883...\n",
       "(-1.268, 0.0449]    {'min': [-1.2574859011722825, -2.8649451889723...\n",
       "(0.0449, 1.357]     {'min': [0.048293003138676634, -2.354199691922...\n",
       "(1.357, 2.67]       {'min': [1.3669024317289944, -2.01502950218101...\n",
       "dtype: object"
      ]
     },
     "execution_count": 37,
     "metadata": {},
     "output_type": "execute_result"
    }
   ],
   "source": [
    "result = df.groupby(quartiles).apply(get_stats)\n",
    "result"
   ]
  }
 ],
 "metadata": {
  "kernelspec": {
   "display_name": "Python 3",
   "language": "python",
   "name": "python3"
  },
  "language_info": {
   "codemirror_mode": {
    "name": "ipython",
    "version": 3
   },
   "file_extension": ".py",
   "mimetype": "text/x-python",
   "name": "python",
   "nbconvert_exporter": "python",
   "pygments_lexer": "ipython3",
   "version": "3.7.0"
  }
 },
 "nbformat": 4,
 "nbformat_minor": 2
}
