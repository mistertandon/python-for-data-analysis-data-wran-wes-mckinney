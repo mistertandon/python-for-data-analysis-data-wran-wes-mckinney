{
 "cells": [
  {
   "cell_type": "markdown",
   "metadata": {},
   "source": [
    "> Quantile and Bucket Analysis"
   ]
  },
  {
   "cell_type": "code",
   "execution_count": 51,
   "metadata": {},
   "outputs": [],
   "source": [
    "from IPython.core.interactiveshell import InteractiveShell\n",
    "InteractiveShell.ats_node_interactivity = 'all'"
   ]
  },
  {
   "cell_type": "code",
   "execution_count": 52,
   "metadata": {},
   "outputs": [],
   "source": [
    "import pandas as pd\n",
    "import numpy as np"
   ]
  },
  {
   "cell_type": "code",
   "execution_count": 53,
   "metadata": {},
   "outputs": [
    {
     "data": {
      "text/html": [
       "<div>\n",
       "<style scoped>\n",
       "    .dataframe tbody tr th:only-of-type {\n",
       "        vertical-align: middle;\n",
       "    }\n",
       "\n",
       "    .dataframe tbody tr th {\n",
       "        vertical-align: top;\n",
       "    }\n",
       "\n",
       "    .dataframe thead th {\n",
       "        text-align: right;\n",
       "    }\n",
       "</style>\n",
       "<table border=\"1\" class=\"dataframe\">\n",
       "  <thead>\n",
       "    <tr style=\"text-align: right;\">\n",
       "      <th></th>\n",
       "      <th>data1</th>\n",
       "      <th>data2</th>\n",
       "    </tr>\n",
       "  </thead>\n",
       "  <tbody>\n",
       "    <tr>\n",
       "      <th>0</th>\n",
       "      <td>0.604625</td>\n",
       "      <td>0.378473</td>\n",
       "    </tr>\n",
       "    <tr>\n",
       "      <th>1</th>\n",
       "      <td>1.525649</td>\n",
       "      <td>0.425241</td>\n",
       "    </tr>\n",
       "    <tr>\n",
       "      <th>2</th>\n",
       "      <td>2.169268</td>\n",
       "      <td>-0.454555</td>\n",
       "    </tr>\n",
       "    <tr>\n",
       "      <th>3</th>\n",
       "      <td>-0.226779</td>\n",
       "      <td>-1.047687</td>\n",
       "    </tr>\n",
       "    <tr>\n",
       "      <th>4</th>\n",
       "      <td>0.235554</td>\n",
       "      <td>0.779611</td>\n",
       "    </tr>\n",
       "  </tbody>\n",
       "</table>\n",
       "</div>"
      ],
      "text/plain": [
       "      data1     data2\n",
       "0  0.604625  0.378473\n",
       "1  1.525649  0.425241\n",
       "2  2.169268 -0.454555\n",
       "3 -0.226779 -1.047687\n",
       "4  0.235554  0.779611"
      ]
     },
     "execution_count": 53,
     "metadata": {},
     "output_type": "execute_result"
    }
   ],
   "source": [
    "frame = pd.DataFrame(data = {\n",
    "    'data1': np.random.randn(5000),\n",
    "    'data2': np.random.randn(5000)\n",
    "})\n",
    "frame.head()"
   ]
  },
  {
   "cell_type": "code",
   "execution_count": 54,
   "metadata": {},
   "outputs": [
    {
     "data": {
      "text/plain": [
       "0    (-0.0178, 1.804]\n",
       "1    (-0.0178, 1.804]\n",
       "2      (1.804, 3.627]\n",
       "3    (-1.84, -0.0178]\n",
       "4    (-0.0178, 1.804]\n",
       "Name: data1, dtype: category\n",
       "Categories (4, interval[float64]): [(-3.67, -1.84] < (-1.84, -0.0178] < (-0.0178, 1.804] < (1.804, 3.627]]"
      ]
     },
     "execution_count": 54,
     "metadata": {},
     "output_type": "execute_result"
    }
   ],
   "source": [
    "quartiels = pd.cut(frame.data1, 4)\n",
    "quartiels.head()"
   ]
  },
  {
   "cell_type": "code",
   "execution_count": 55,
   "metadata": {},
   "outputs": [
    {
     "data": {
      "text/plain": [
       "pandas.core.series.Series"
      ]
     },
     "execution_count": 55,
     "metadata": {},
     "output_type": "execute_result"
    }
   ],
   "source": [
    "quartiles_series = quartiels.value_counts()\n",
    "type(quartiles_series)"
   ]
  },
  {
   "cell_type": "code",
   "execution_count": 56,
   "metadata": {},
   "outputs": [
    {
     "data": {
      "text/plain": [
       "(-1.84, -0.0178]    2328\n",
       "(-0.0178, 1.804]    2311\n",
       "(1.804, 3.627]       199\n",
       "(-3.67, -1.84]       162\n",
       "Name: data1, dtype: int64"
      ]
     },
     "execution_count": 56,
     "metadata": {},
     "output_type": "execute_result"
    }
   ],
   "source": [
    "quartiles_series"
   ]
  },
  {
   "cell_type": "code",
   "execution_count": 57,
   "metadata": {},
   "outputs": [],
   "source": [
    "grp_i = frame.data2.groupby(quartiels)"
   ]
  },
  {
   "cell_type": "code",
   "execution_count": 58,
   "metadata": {},
   "outputs": [
    {
     "name": "stdout",
     "output_type": "stream",
     "text": [
      "(-3.67, -1.84]\n",
      "========================================\n",
      "(-1.84, -0.0178]\n",
      "========================================\n",
      "(-0.0178, 1.804]\n",
      "========================================\n",
      "(1.804, 3.627]\n",
      "========================================\n"
     ]
    }
   ],
   "source": [
    "for grp_index, grp_data in grp_i:\n",
    "    print(grp_index)\n",
    "    print('=='*20)"
   ]
  },
  {
   "cell_type": "code",
   "execution_count": 59,
   "metadata": {},
   "outputs": [],
   "source": [
    "def get_stats(grp):\n",
    "\n",
    "    return {\n",
    "        'min': grp.min(),\n",
    "        'max': grp.max(),\n",
    "        'count': grp.count(),\n",
    "        'mean': grp.mean()\n",
    "    }"
   ]
  },
  {
   "cell_type": "code",
   "execution_count": 62,
   "metadata": {},
   "outputs": [
    {
     "data": {
      "text/plain": [
       "data1                  \n",
       "(-3.67, -1.84]    count     162.000000\n",
       "                  max         2.737330\n",
       "                  mean        0.069675\n",
       "                  min        -2.391718\n",
       "(-1.84, -0.0178]  count    2328.000000\n",
       "                  max         3.618947\n",
       "                  mean       -0.028815\n",
       "                  min        -3.492114\n",
       "(-0.0178, 1.804]  count    2311.000000\n",
       "                  max         3.376811\n",
       "                  mean        0.025697\n",
       "                  min        -3.030620\n",
       "(1.804, 3.627]    count     199.000000\n",
       "                  max         2.489485\n",
       "                  mean        0.037211\n",
       "                  min        -3.118599\n",
       "Name: data2, dtype: float64"
      ]
     },
     "execution_count": 62,
     "metadata": {},
     "output_type": "execute_result"
    }
   ],
   "source": [
    "grp_i_stats = grp_i.apply(get_stats)\n",
    "grp_i_stats"
   ]
  },
  {
   "cell_type": "code",
   "execution_count": 61,
   "metadata": {},
   "outputs": [
    {
     "data": {
      "text/html": [
       "<div>\n",
       "<style scoped>\n",
       "    .dataframe tbody tr th:only-of-type {\n",
       "        vertical-align: middle;\n",
       "    }\n",
       "\n",
       "    .dataframe tbody tr th {\n",
       "        vertical-align: top;\n",
       "    }\n",
       "\n",
       "    .dataframe thead th {\n",
       "        text-align: right;\n",
       "    }\n",
       "</style>\n",
       "<table border=\"1\" class=\"dataframe\">\n",
       "  <thead>\n",
       "    <tr style=\"text-align: right;\">\n",
       "      <th></th>\n",
       "      <th>count</th>\n",
       "      <th>max</th>\n",
       "      <th>mean</th>\n",
       "      <th>min</th>\n",
       "    </tr>\n",
       "    <tr>\n",
       "      <th>data1</th>\n",
       "      <th></th>\n",
       "      <th></th>\n",
       "      <th></th>\n",
       "      <th></th>\n",
       "    </tr>\n",
       "  </thead>\n",
       "  <tbody>\n",
       "    <tr>\n",
       "      <th>(-3.67, -1.84]</th>\n",
       "      <td>162.0</td>\n",
       "      <td>2.737330</td>\n",
       "      <td>0.069675</td>\n",
       "      <td>-2.391718</td>\n",
       "    </tr>\n",
       "    <tr>\n",
       "      <th>(-1.84, -0.0178]</th>\n",
       "      <td>2328.0</td>\n",
       "      <td>3.618947</td>\n",
       "      <td>-0.028815</td>\n",
       "      <td>-3.492114</td>\n",
       "    </tr>\n",
       "    <tr>\n",
       "      <th>(-0.0178, 1.804]</th>\n",
       "      <td>2311.0</td>\n",
       "      <td>3.376811</td>\n",
       "      <td>0.025697</td>\n",
       "      <td>-3.030620</td>\n",
       "    </tr>\n",
       "    <tr>\n",
       "      <th>(1.804, 3.627]</th>\n",
       "      <td>199.0</td>\n",
       "      <td>2.489485</td>\n",
       "      <td>0.037211</td>\n",
       "      <td>-3.118599</td>\n",
       "    </tr>\n",
       "  </tbody>\n",
       "</table>\n",
       "</div>"
      ],
      "text/plain": [
       "                   count       max      mean       min\n",
       "data1                                                 \n",
       "(-3.67, -1.84]     162.0  2.737330  0.069675 -2.391718\n",
       "(-1.84, -0.0178]  2328.0  3.618947 -0.028815 -3.492114\n",
       "(-0.0178, 1.804]  2311.0  3.376811  0.025697 -3.030620\n",
       "(1.804, 3.627]     199.0  2.489485  0.037211 -3.118599"
      ]
     },
     "execution_count": 61,
     "metadata": {},
     "output_type": "execute_result"
    }
   ],
   "source": [
    "grp_i_stats.unstack()"
   ]
  },
  {
   "cell_type": "code",
   "execution_count": null,
   "metadata": {},
   "outputs": [],
   "source": []
  },
  {
   "cell_type": "code",
   "execution_count": null,
   "metadata": {},
   "outputs": [],
   "source": []
  },
  {
   "cell_type": "code",
   "execution_count": null,
   "metadata": {},
   "outputs": [],
   "source": []
  },
  {
   "cell_type": "code",
   "execution_count": null,
   "metadata": {},
   "outputs": [],
   "source": []
  },
  {
   "cell_type": "code",
   "execution_count": null,
   "metadata": {},
   "outputs": [],
   "source": []
  }
 ],
 "metadata": {
  "kernelspec": {
   "display_name": "Python 3",
   "language": "python",
   "name": "python3"
  },
  "language_info": {
   "codemirror_mode": {
    "name": "ipython",
    "version": 3
   },
   "file_extension": ".py",
   "mimetype": "text/x-python",
   "name": "python",
   "nbconvert_exporter": "python",
   "pygments_lexer": "ipython3",
   "version": "3.7.0"
  }
 },
 "nbformat": 4,
 "nbformat_minor": 2
}
