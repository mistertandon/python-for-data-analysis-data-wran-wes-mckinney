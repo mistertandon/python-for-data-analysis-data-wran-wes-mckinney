{
 "cells": [
  {
   "cell_type": "code",
   "execution_count": 15,
   "metadata": {},
   "outputs": [],
   "source": [
    "from IPython.core.interactiveshell import InteractiveShell\n",
    "InteractiveShell.ast_node_interactivity = 'all'"
   ]
  },
  {
   "cell_type": "code",
   "execution_count": 16,
   "metadata": {},
   "outputs": [],
   "source": [
    "import pandas as pd\n",
    "import numpy as np"
   ]
  },
  {
   "cell_type": "code",
   "execution_count": 17,
   "metadata": {},
   "outputs": [
    {
     "data": {
      "text/html": [
       "<div>\n",
       "<style scoped>\n",
       "    .dataframe tbody tr th:only-of-type {\n",
       "        vertical-align: middle;\n",
       "    }\n",
       "\n",
       "    .dataframe tbody tr th {\n",
       "        vertical-align: top;\n",
       "    }\n",
       "\n",
       "    .dataframe thead th {\n",
       "        text-align: right;\n",
       "    }\n",
       "</style>\n",
       "<table border=\"1\" class=\"dataframe\">\n",
       "  <thead>\n",
       "    <tr style=\"text-align: right;\">\n",
       "      <th></th>\n",
       "      <th>a</th>\n",
       "      <th>b</th>\n",
       "      <th>c</th>\n",
       "      <th>d</th>\n",
       "      <th>e</th>\n",
       "    </tr>\n",
       "  </thead>\n",
       "  <tbody>\n",
       "    <tr>\n",
       "      <th>joe</th>\n",
       "      <td>0.494422</td>\n",
       "      <td>0.168050</td>\n",
       "      <td>-0.069376</td>\n",
       "      <td>0.184666</td>\n",
       "      <td>-1.105725</td>\n",
       "    </tr>\n",
       "    <tr>\n",
       "      <th>steve</th>\n",
       "      <td>-0.000210</td>\n",
       "      <td>-0.535971</td>\n",
       "      <td>0.720741</td>\n",
       "      <td>-0.647639</td>\n",
       "      <td>-0.318122</td>\n",
       "    </tr>\n",
       "    <tr>\n",
       "      <th>wes</th>\n",
       "      <td>0.368226</td>\n",
       "      <td>0.474316</td>\n",
       "      <td>-0.572515</td>\n",
       "      <td>0.610001</td>\n",
       "      <td>0.792040</td>\n",
       "    </tr>\n",
       "    <tr>\n",
       "      <th>jim</th>\n",
       "      <td>0.187947</td>\n",
       "      <td>0.653715</td>\n",
       "      <td>-1.148936</td>\n",
       "      <td>-1.297036</td>\n",
       "      <td>-0.552901</td>\n",
       "    </tr>\n",
       "    <tr>\n",
       "      <th>travis</th>\n",
       "      <td>-0.524025</td>\n",
       "      <td>1.036635</td>\n",
       "      <td>1.793918</td>\n",
       "      <td>-1.910196</td>\n",
       "      <td>-0.299044</td>\n",
       "    </tr>\n",
       "  </tbody>\n",
       "</table>\n",
       "</div>"
      ],
      "text/plain": [
       "               a         b         c         d         e\n",
       "joe     0.494422  0.168050 -0.069376  0.184666 -1.105725\n",
       "steve  -0.000210 -0.535971  0.720741 -0.647639 -0.318122\n",
       "wes     0.368226  0.474316 -0.572515  0.610001  0.792040\n",
       "jim     0.187947  0.653715 -1.148936 -1.297036 -0.552901\n",
       "travis -0.524025  1.036635  1.793918 -1.910196 -0.299044"
      ]
     },
     "execution_count": 17,
     "metadata": {},
     "output_type": "execute_result"
    }
   ],
   "source": [
    "people = pd.DataFrame(\n",
    "    data = np.random.randn(5, 5),\n",
    "    columns = ['a', 'b', 'c', 'd', 'e'],\n",
    "    index = ['joe', 'steve', 'wes', 'jim', 'travis'] \n",
    ")\n",
    "people"
   ]
  },
  {
   "cell_type": "code",
   "execution_count": 18,
   "metadata": {},
   "outputs": [],
   "source": [
    "grp_i = people.groupby(len)"
   ]
  },
  {
   "cell_type": "code",
   "execution_count": 19,
   "metadata": {},
   "outputs": [
    {
     "name": "stdout",
     "output_type": "stream",
     "text": [
      "3\n",
      "            a         b         c         d         e\n",
      "joe  0.494422  0.168050 -0.069376  0.184666 -1.105725\n",
      "wes  0.368226  0.474316 -0.572515  0.610001  0.792040\n",
      "jim  0.187947  0.653715 -1.148936 -1.297036 -0.552901\n",
      "========================================\n",
      "5\n",
      "             a         b         c         d         e\n",
      "steve -0.00021 -0.535971  0.720741 -0.647639 -0.318122\n",
      "========================================\n",
      "6\n",
      "               a         b         c         d         e\n",
      "travis -0.524025  1.036635  1.793918 -1.910196 -0.299044\n",
      "========================================\n"
     ]
    }
   ],
   "source": [
    "for grp_name, grp_data in grp_i:\n",
    "    print(grp_name)\n",
    "    print(grp_data)\n",
    "    print('=='*20)"
   ]
  },
  {
   "cell_type": "code",
   "execution_count": 20,
   "metadata": {},
   "outputs": [
    {
     "name": "stdout",
     "output_type": "stream",
     "text": [
      "(3, 'one', 'four')\n",
      "            a         b         c         d        e\n",
      "wes  0.368226  0.474316 -0.572515  0.610001  0.79204\n",
      "========================================\n",
      "(3, 'one', 'three')\n",
      "            a        b         c         d         e\n",
      "joe  0.494422  0.16805 -0.069376  0.184666 -1.105725\n",
      "========================================\n",
      "(3, 'two', 'four')\n",
      "            a         b         c         d         e\n",
      "jim  0.187947  0.653715 -1.148936 -1.297036 -0.552901\n",
      "========================================\n",
      "(5, 'one', 'three')\n",
      "             a         b         c         d         e\n",
      "steve -0.00021 -0.535971  0.720741 -0.647639 -0.318122\n",
      "========================================\n",
      "(6, 'two', 'four')\n",
      "               a         b         c         d         e\n",
      "travis -0.524025  1.036635  1.793918 -1.910196 -0.299044\n",
      "========================================\n"
     ]
    }
   ],
   "source": [
    "# Mixing functions with arrays, Dict or Series is not a problem, as\n",
    "# everything gets converted to array internally\n",
    "key_list_level_1 = ['one', 'one', 'one', 'two', 'two']\n",
    "key_list_level_2 = ['three', 'three', 'four', 'four', 'four']\n",
    "\n",
    "grp_ii = people.groupby([len, key_list_level_1, key_list_level_2])\n",
    "for grp_name, grp_data in grp_ii:\n",
    "    print(grp_name)\n",
    "    print(grp_data)\n",
    "    print('=='*20)"
   ]
  }
 ],
 "metadata": {
  "kernelspec": {
   "display_name": "Python 3",
   "language": "python",
   "name": "python3"
  },
  "language_info": {
   "codemirror_mode": {
    "name": "ipython",
    "version": 3
   },
   "file_extension": ".py",
   "mimetype": "text/x-python",
   "name": "python",
   "nbconvert_exporter": "python",
   "pygments_lexer": "ipython3",
   "version": "3.7.0"
  }
 },
 "nbformat": 4,
 "nbformat_minor": 2
}
